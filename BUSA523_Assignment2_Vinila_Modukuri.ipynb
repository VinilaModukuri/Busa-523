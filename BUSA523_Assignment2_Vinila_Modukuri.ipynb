{
 "cells": [
  {
   "cell_type": "markdown",
   "id": "74ade3c1",
   "metadata": {},
   "source": [
    "1. Write a program for flipping a coin 10,000 times and store the results in a list. After which, identify the number of streaks. (streak - a series of 5 or more heads or tails)"
   ]
  },
  {
   "cell_type": "code",
   "execution_count": 2,
   "id": "f563d544",
   "metadata": {},
   "outputs": [
    {
     "name": "stdout",
     "output_type": "stream",
     "text": [
      "310\n"
     ]
    }
   ],
   "source": [
    "import random\n",
    "\n",
    "choices = ['heads','tails']\n",
    "\n",
    "def count_streaks(results):\n",
    "    streaks, current_streak, current_count = 0,results[0],0\n",
    "    for i in range(len(results)):\n",
    "        if results[i]==current_streak:\n",
    "            current_count+=1\n",
    "        else:\n",
    "            if current_count>=5:\n",
    "                streaks+=1\n",
    "            current_streak, current_count = results[i],1 \n",
    "    return streaks\n",
    "\n",
    "results = random.choices(choices,k=10000)\n",
    "print(count_streaks(results))"
   ]
  },
  {
   "cell_type": "markdown",
   "id": "6e8e6ecb",
   "metadata": {},
   "source": [
    "2. Write a program to take user inputs (number of swords, diamonds, gold coins,ropes and potions) for a video game and store them in a dictionary. After which print the following output. \n",
    "   Inventory:\n",
    "   5 swords\n",
    "   10 diamonds\n",
    "   6 gold coins\n",
    "   3 rope\n",
    "   2 potions"
   ]
  },
  {
   "cell_type": "code",
   "execution_count": 4,
   "id": "b73b1727",
   "metadata": {},
   "outputs": [
    {
     "name": "stdout",
     "output_type": "stream",
     "text": [
      "Enter the number of swords: 5\n",
      "Enter the number of diamonds: 10\n",
      "Enter the number of gold coins: 6\n",
      "Enter the number of rope: 3\n",
      "Enter the number of potions: 2\n",
      "Inventory: \n",
      "5 swords\n",
      "10 diamonds\n",
      "6 gold coins\n",
      "3 rope\n",
      "2 potions\n"
     ]
    }
   ],
   "source": [
    "items = ['swords','diamonds','gold coins','rope','potions']\n",
    "inventory = {}\n",
    "\n",
    "for item in items:\n",
    "    inventory[item] = int(input('Enter the number of {}: '.format(item)))\n",
    "    \n",
    "print(\"Inventory: \")\n",
    "\n",
    "for item,cnt in inventory.items():\n",
    "    print(cnt,item)"
   ]
  },
  {
   "cell_type": "markdown",
   "id": "852c746a",
   "metadata": {},
   "source": [
    "3. Repeat question 1 using arrays. "
   ]
  },
  {
   "cell_type": "code",
   "execution_count": 5,
   "id": "93a88fbf",
   "metadata": {},
   "outputs": [
    {
     "name": "stdout",
     "output_type": "stream",
     "text": [
      "313\n"
     ]
    }
   ],
   "source": [
    "import random\n",
    "\n",
    "import numpy \n",
    "\n",
    "choices =['heads','tails']\n",
    "\n",
    "array = numpy.array(choices)\n",
    "\n",
    "def count_streaks(results):\n",
    "    streaks, current_streak, current_count = 0,results[0],0\n",
    "    for i in range(len(results)):\n",
    "        if results[i]==current_streak:\n",
    "            current_count+=1\n",
    "        else:\n",
    "            if current_count>=5:\n",
    "                streaks+=1\n",
    "            current_streak, current_count = results[i],1 \n",
    "    return streaks\n",
    "\n",
    "results = random.choices(choices,k=10000)\n",
    "print(count_streaks(results))\n"
   ]
  },
  {
   "cell_type": "markdown",
   "id": "5ad87b3f",
   "metadata": {},
   "source": [
    "4. Create a game with the following instructions:\n",
    "   a. There are 3 players and 10 iterations.\n",
    "   b. In each iteration, every player rolls a die.\n",
    "   c. The winner of the game is the one who has the highest score when rolls from all the iterations are added."
   ]
  },
  {
   "cell_type": "code",
   "execution_count": 6,
   "id": "1f6c4075",
   "metadata": {},
   "outputs": [
    {
     "name": "stdout",
     "output_type": "stream",
     "text": [
      "Winner for the following game is Player 2\n"
     ]
    }
   ],
   "source": [
    "import random\n",
    "\n",
    "num_iterations, num_players = 10,3\n",
    "scores = [0]*num_players\n",
    "for i in range(num_iterations):\n",
    "       for player in range(num_players):\n",
    "        scores[player] += random.randint(1,6) \n",
    "winner = max(enumerate(scores), key=lambda scores:scores[1])[0] + 1 \n",
    "print('Winner for the following game is Player {}'.format(winner))   \n",
    " "
   ]
  },
  {
   "cell_type": "code",
   "execution_count": null,
   "id": "68a81dbf",
   "metadata": {},
   "outputs": [],
   "source": []
  }
 ],
 "metadata": {
  "kernelspec": {
   "display_name": "Python 3 (ipykernel)",
   "language": "python",
   "name": "python3"
  },
  "language_info": {
   "codemirror_mode": {
    "name": "ipython",
    "version": 3
   },
   "file_extension": ".py",
   "mimetype": "text/x-python",
   "name": "python",
   "nbconvert_exporter": "python",
   "pygments_lexer": "ipython3",
   "version": "3.9.7"
  }
 },
 "nbformat": 4,
 "nbformat_minor": 5
}
