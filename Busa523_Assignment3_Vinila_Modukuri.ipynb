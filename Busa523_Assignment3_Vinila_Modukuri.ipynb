{
 "cells": [
  {
   "cell_type": "markdown",
   "id": "6d401bd0",
   "metadata": {},
   "source": [
    "1. Create a class to store student records. Each student has a first name, last name,country, overall grade (0 - 4.0 scale), credits completed (total 30) and major.Create a method within this class to evaluate student progress.Progress is evaluated as follows: ○ “Good”: if grades are above 3.0 and credits completed is greater than 20. ○ “Average”: if grades are above 2.5 or credits completed is between 10 and 20. ○ “Bad”: if grades are below 2.5\n"
   ]
  },
  {
   "cell_type": "code",
   "execution_count": null,
   "id": "5929c638",
   "metadata": {},
   "outputs": [],
   "source": [
    "def _init_(self, FirstName, LastName, Country, Grades, Credits):\n",
    "        self.FirstName = FirstName\n",
    "        self.LastName = LastName\n",
    "        self.Country = Country\n",
    "        self.Grades = Grades\n",
    "        self.Credits = Credits\n",
    "      \n",
    "    \n",
    "FirstName = str(input())\n",
    "SecondName = str(input())\n",
    "Country = str(input())\n",
    "Grades = float(input())\n",
    "Credits = int(input())\n",
    "\n",
    "if Grades >= 3.0 and Credits >= 20:\n",
    "    print(\"Good\")\n",
    "elif Grades >= 2.5 or Credits >=10 and Credits <20 :\n",
    "    print(\"Average\")\n",
    "elif Grades < 2.5:\n",
    "    print(\"Bad\")"
   ]
  },
  {
   "cell_type": "markdown",
   "id": "ee3ad99d",
   "metadata": {},
   "source": [
    "2. Write a function which separates the positive and negative numbers from a list of numbers. \n",
    "- Input: [-6, 5, -3, -2, 1, 0, -8, 9, 3]\n",
    "- Output: [-6, -3, -2, -8], [5, 1, 9, 3]"
   ]
  },
  {
   "cell_type": "code",
   "execution_count": 2,
   "id": "6e9669dd",
   "metadata": {},
   "outputs": [
    {
     "name": "stdout",
     "output_type": "stream",
     "text": [
      "negative_positive_List= ([-6, -3, -2, -8], [5, 1, 9, 3])\n"
     ]
    }
   ],
   "source": [
    "List = [-6, 5, -3, -2, 1, 0, -8, 9, 3]\n",
    "def negative_positive(My_List):\n",
    "    Negative_List = []\n",
    "    Positive_List = []\n",
    "    for j in My_List:\n",
    "        if j < 0:\n",
    "            Negative_List.append(j)\n",
    "            \n",
    "        elif j > 0:\n",
    "            Positive_List.append(j)\n",
    "    return Negative_List, Positive_List\n",
    "    \n",
    "print(\"negative_positive_List=\",negative_positive(List))"
   ]
  },
  {
   "cell_type": "markdown",
   "id": "4ca2ed09",
   "metadata": {},
   "source": [
    "3. Write a function which outputs all winning possibilities for a given player’s\n",
    "- score. Assume the score is always between 15 and 21. Further, the dealer is\n",
    "- dealt only 2 cards. (40)\n",
    "- Input - 18 (player’s final score)\n",
    "- Output - [(9,10), (10,11), (10,10), (11,9), (11,8)]\n",
    "- Notes:\n",
    "- No need to specify face cards separately, you can use the value “10”\n",
    "- (11,11) is not a winning combination"
   ]
  },
  {
   "cell_type": "code",
   "execution_count": 1,
   "id": "d9f6e6c9",
   "metadata": {},
   "outputs": [
    {
     "name": "stdout",
     "output_type": "stream",
     "text": [
      "Enter Player's final score = 15\n",
      "All possibilities = [[5, 11], [6, 10], [6, 11], [7, 9], [7, 10], [7, 11], [8, 8], [8, 9], [8, 10], [8, 11], [9, 9], [9, 10], [9, 11], [10, 10], [10, 11]]\n"
     ]
    }
   ],
   "source": [
    "# all_possibilities() function which takes number final scores of player.\n",
    "# and return list of list with two elements.\n",
    "# each sum of two elements is greater than final score number and  less than 22.\n",
    "def all_possibilities(number):\n",
    "    # empty list two store result.\n",
    "    ans = []\n",
    "    # for each i from 1 to 11.\n",
    "    for i in range(1, 12):\n",
    "        # for each j from i to 11.\n",
    "        for j in range(i, 12):\n",
    "            # if sum of i and j is between number and 22 exclusively.\n",
    "            if(number < i+j and i+j < 22):\n",
    "                # append list[i, j] to ans.\n",
    "                ans.append([i, j])\n",
    "\n",
    "    # print ans list.\n",
    "    print(\"All possibilities =\", ans)\n",
    "\n",
    "\n",
    "# asking for input final score.\n",
    "n = int(input(\"Enter Player's final score = \"))\n",
    "\n",
    "# all_possibilities() calling\n",
    "all_possibilities(n)"
   ]
  },
  {
   "cell_type": "markdown",
   "id": "2ca56705",
   "metadata": {},
   "source": [
    "4. Calculate the number of steps & Big O order for the programs in question 2 and 3"
   ]
  },
  {
   "cell_type": "code",
   "execution_count": null,
   "id": "d604f149",
   "metadata": {},
   "outputs": [],
   "source": [
    "%timeit negative_positive(My_List)\n",
    "%timeit all_possibilities(number)"
   ]
  },
  {
   "cell_type": "code",
   "execution_count": null,
   "id": "7c5be9ba",
   "metadata": {},
   "outputs": [],
   "source": []
  }
 ],
 "metadata": {
  "kernelspec": {
   "display_name": "Python 3 (ipykernel)",
   "language": "python",
   "name": "python3"
  },
  "language_info": {
   "codemirror_mode": {
    "name": "ipython",
    "version": 3
   },
   "file_extension": ".py",
   "mimetype": "text/x-python",
   "name": "python",
   "nbconvert_exporter": "python",
   "pygments_lexer": "ipython3",
   "version": "3.9.7"
  }
 },
 "nbformat": 4,
 "nbformat_minor": 5
}
