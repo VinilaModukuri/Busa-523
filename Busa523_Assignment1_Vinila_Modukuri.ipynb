{
 "cells": [
  {
   "cell_type": "markdown",
   "id": "c298cb9f",
   "metadata": {},
   "source": [
    "1. Write a program which randomly selects a number between 1 and 20. The user is then given 5 chances to guess the number correctly to win. \n"
   ]
  },
  {
   "cell_type": "code",
   "execution_count": null,
   "id": "a1a4719f",
   "metadata": {},
   "outputs": [
    {
     "name": "stdout",
     "output_type": "stream",
     "text": [
      "You've 5 chances to guess the number correctly between 1 and 20 \n",
      "  \n",
      "Take a guess\n"
     ]
    }
   ],
   "source": [
    "import random\n",
    "\n",
    "guesstaken = 0\n",
    "number = random.randint(1,20)\n",
    "\n",
    "print(\"You've 5 chances to guess the number correctly between 1 and 20 \\n  \")\n",
    "\n",
    "while guesstaken < 5:\n",
    "    print(\"Take a guess\")\n",
    "    guess = input()\n",
    "    guess = int(guess)\n",
    "    \n",
    "    guesstaken = guesstaken + 1\n",
    "\n",
    "if guess == number:\n",
    "    print(\"You Win!\")\n",
    "    \n",
    "if guess != number:\n",
    "    print(\"You Lose..\")"
   ]
  },
  {
   "cell_type": "markdown",
   "id": "a3303dad",
   "metadata": {},
   "source": [
    "2. Make the following changes to the above program. After each guess, print if the next guess should be lower or higher. For example, if the computer selection is 10 and the user input is 6, print guess a higher value.\n"
   ]
  },
  {
   "cell_type": "code",
   "execution_count": null,
   "id": "dbef0450",
   "metadata": {},
   "outputs": [],
   "source": [
    "import random\n",
    "\n",
    "guesstaken = 0\n",
    "number = random.randint(1,20)\n",
    "\n",
    "print(\"You've 5 chances to guess the number correctly between 1 and 20 \\n  \")\n",
    "\n",
    "while guesstaken < 5:\n",
    "    print(\"Take a guess\")\n",
    "    guess = input()\n",
    "    guess = int(guess)\n",
    "    \n",
    "    guesstaken = guesstaken + 1\n",
    "\n",
    "    if guess == number:\n",
    "        print(\"You Win!\")\n",
    "        break\n",
    "    elif number > guess:\n",
    "        print(\"Guess a higher value! \\n\")\n",
    "    elif number < guess:\n",
    "        print(\"Guess a lower value! \\n\")\n",
    "    \n",
    "if guess != number:\n",
    "    print(\"You Lose\")\n",
    "    "
   ]
  },
  {
   "cell_type": "markdown",
   "id": "4b6df1cc",
   "metadata": {},
   "source": [
    "3. Write a program for “Rock-Paper-Scissors-Lizard-Spock”"
   ]
  },
  {
   "cell_type": "code",
   "execution_count": null,
   "id": "5ba2b60f",
   "metadata": {},
   "outputs": [],
   "source": [
    "import random\n",
    "\n",
    "print(\"Enter your Selection: Rock, Paper, Scissors, Lizard, Spock\")\n",
    "user = input()\n",
    "\n",
    "number = random.randint(1,5)\n",
    "\n",
    "if number == 1:\n",
    "    computer = \"Rock\"\n",
    "elif number == 2:\n",
    "    computer = \"Paper\"\n",
    "elif number == 3:\n",
    "    computer = \"Scissors\"\n",
    "elif number == 4:\n",
    "    computer = \"Lizard\"\n",
    "elif number == 5:\n",
    "    computer = \"Spock\"\n",
    "    \n",
    "\n",
    "if user == computer:\n",
    "    print(\"It's a Tie!\")\n",
    "elif user == \"Scissors\" and computer == \"Paper\":\n",
    "    print(\"You Win!\")\n",
    "elif user == \"Paper\" and computer == \"Rock\":\n",
    "    print(\"You Win!\")\n",
    "elif user == \"Rock\" and computer == \"Lizard\":\n",
    "    print(\"You Win!\")\n",
    "elif user == \"Lizard\" and computer == \"Spock\":\n",
    "    print(\"You Win!\")\n",
    "elif user == \"Spock\" and computer == \"Scissors\":\n",
    "    print(\"You Win!\")\n",
    "elif user == \"Scissors\" and computer == \"Lizard\":\n",
    "    print(\"You Win!\")\n",
    "elif user == \"Lizard\" and computer == \"Paper\":\n",
    "    print(\"You Win!\")\n",
    "elif user == \"Paper\" and computer == \"Spock\":\n",
    "    print(\"You Win!\")\n",
    "elif user == \"Rock\" and computer == \"Scissors\":\n",
    "    print(\"You Win!\")\n",
    "elif user == \"Spock\" and computer == \"Rock\":\n",
    "    print(\"You Win!\")\n",
    "elif user == \"Paper\" and computer == \"Scissors\":\n",
    "    print(\"You Lose..\")\n",
    "elif user == \"Rock\" and computer == \"Paper\":\n",
    "    print(\"You Lose..\")\n",
    "elif user == \"Lizard\" and computer == \"Rock\":\n",
    "    print(\"You Lose..\")\n",
    "elif user == \"Spock\" and computer == \"Lizard\":\n",
    "    print(\"You Lose..\")\n",
    "elif user == \"Scissors\" and computer == \"Spock\":\n",
    "    print(\"You Lose..\")\n",
    "elif user == \"Lizard\" and computer == \"Scissors\":\n",
    "    print(\"You Lose..\")\n",
    "elif user == \"Paper\" and computer == \"Lizard\":\n",
    "    print(\"You Lose..\")\n",
    "elif user == \"Spock\" and computer == \"Paper\":\n",
    "    print(\"You Lose..\")\n",
    "elif user == \"Scissors\" and computer == \"Rock\":\n",
    "    print(\"You Lose..\")\n",
    "elif user == \"Rock\" and computer == \"Spock\":\n",
    "    print(\"You Lose..\")\n",
    "else:\n",
    "    print(\"Invalid entry\")"
   ]
  },
  {
   "cell_type": "code",
   "execution_count": null,
   "id": "d617d1fe",
   "metadata": {},
   "outputs": [],
   "source": [
    "\n"
   ]
  }
 ],
 "metadata": {
  "kernelspec": {
   "display_name": "Python 3 (ipykernel)",
   "language": "python",
   "name": "python3"
  },
  "language_info": {
   "codemirror_mode": {
    "name": "ipython",
    "version": 3
   },
   "file_extension": ".py",
   "mimetype": "text/x-python",
   "name": "python",
   "nbconvert_exporter": "python",
   "pygments_lexer": "ipython3",
   "version": "3.9.7"
  }
 },
 "nbformat": 4,
 "nbformat_minor": 5
}
